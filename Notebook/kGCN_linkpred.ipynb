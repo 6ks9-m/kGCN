{
  "nbformat": 4,
  "nbformat_minor": 0,
  "metadata": {
    "colab": {
      "name": "kGCN_linkpred.ipynb",
      "version": "0.3.2",
      "provenance": [],
      "collapsed_sections": []
    },
    "kernelspec": {
      "name": "python3",
      "display_name": "Python 3"
    }
  },
  "cells": [
    {
      "cell_type": "markdown",
      "metadata": {
        "id": "_qoOrefBI2BL",
        "colab_type": "text"
      },
      "source": [
        "# GCN link prediction using the karate-club graph\n",
        "\n",
        "kGCN: https://github.com/clinfo/kGCN\n",
        "\n",
        "This sample code demonstrates how to use kGCN (python module) for a toy link prediction problem.  "
      ]
    },
    {
      "cell_type": "markdown",
      "metadata": {
        "id": "8I5v5wWIJbtf",
        "colab_type": "text"
      },
      "source": [
        "## Installation of kGCN\n",
        "\n",
        "kGCN is available from git using the following pip command: "
      ]
    },
    {
      "cell_type": "code",
      "metadata": {
        "id": "DVPz-QzMCGqP",
        "colab_type": "code",
        "colab": {
          "base_uri": "https://localhost:8080/",
          "height": 190
        },
        "outputId": "caeee336-5e91-4376-8edc-0c1eb6225d0d"
      },
      "source": [
        "! pip install git+https://github.com/clinfo/kGCN.git\n"
      ],
      "execution_count": 1,
      "outputs": [
        {
          "output_type": "stream",
          "text": [
            "Collecting git+https://github.com/clinfo/kGCN.git\n",
            "  Cloning https://github.com/clinfo/kGCN.git to /tmp/pip-req-build-c4hm24l_\n",
            "  Running command git clone -q https://github.com/clinfo/kGCN.git /tmp/pip-req-build-c4hm24l_\n",
            "Requirement already satisfied (use --upgrade to upgrade): kGCN==1.0 from git+https://github.com/clinfo/kGCN.git in /usr/local/lib/python3.6/dist-packages\n",
            "Building wheels for collected packages: kGCN\n",
            "  Building wheel for kGCN (setup.py) ... \u001b[?25l\u001b[?25hdone\n",
            "  Created wheel for kGCN: filename=kGCN-1.0-cp36-none-any.whl size=45979 sha256=f5c6c083386a74814a88d4383b8a9b1baeafe21c2eae7777558a37c377b0c6f4\n",
            "  Stored in directory: /tmp/pip-ephem-wheel-cache-b3n4gxsj/wheels/05/46/ea/77d5fa3130104696b6ad4d696d46726da54b3f472d227bf587\n",
            "Successfully built kGCN\n"
          ],
          "name": "stdout"
        }
      ]
    },
    {
      "cell_type": "markdown",
      "metadata": {
        "id": "Tv-I7IfwJuKx",
        "colab_type": "text"
      },
      "source": [
        "## Preparation of the dataset\n",
        "\n",
        "### constructing graph\n",
        "\n",
        "This sample code uses a standard graph library *networkX* and karate-club graph, a small benchmark graph."
      ]
    },
    {
      "cell_type": "code",
      "metadata": {
        "id": "oyuKGsEODsOv",
        "colab_type": "code",
        "colab": {
          "base_uri": "https://localhost:8080/",
          "height": 391
        },
        "outputId": "becb426e-6600-42b2-f912-90ea58c41e1b"
      },
      "source": [
        "import networkx as nx\n",
        "import matplotlib.pyplot as plt\n",
        "import numpy as np\n",
        "\n",
        "G = nx.karate_club_graph()\n",
        "print(\"#nodes: \",nx.number_of_nodes(G))\n",
        "print(\"#edges: \",nx.number_of_edges(G))\n",
        "\n",
        "# Visualization\n",
        "pos = nx.spring_layout(G)\n",
        "plt.figure(figsize=(6, 6))\n",
        "nx.draw_networkx_edges(G, pos)\n",
        "nx.draw_networkx_nodes(G, pos)\n",
        "plt.axis('off')\n",
        "plt.show()"
      ],
      "execution_count": 2,
      "outputs": [
        {
          "output_type": "stream",
          "text": [
            "#nodes:  34\n",
            "#edges:  78\n"
          ],
          "name": "stdout"
        },
        {
          "output_type": "display_data",
          "data": {
            "image/png": "[encoded data removed]",
            "text/plain": [
              "<Figure size 432x432 with 1 Axes>"
            ]
          },
          "metadata": {
            "tags": []
          }
        }
      ]
    },
    {
      "cell_type": "markdown",
      "metadata": {
        "id": "VdOvSuyaKMVR",
        "colab_type": "text"
      },
      "source": [
        "### Constructing a dataset by converting the networkX graph\n",
        "\n",
        "To use graph convolutional network, the adjacency matrix and labels, i.e., the prediction target is link in this case, should be computed from the graph."
      ]
    },
    {
      "cell_type": "code",
      "metadata": {
        "id": "IfOW9z58Gn56",
        "colab_type": "code",
        "colab": {}
      },
      "source": [
        "# adjacency matrix (sparse format)\n",
        "node_num=nx.number_of_nodes(G)\n",
        "adj_idx=np.array(G.edges())\n",
        "adj_val=np.ones((nx.number_of_edges(G),))\n",
        "adj_shape=[node_num,node_num]\n",
        "adjs=[(adj_idx,adj_val,adj_shape)]\n",
        "\n",
        "# node list\n",
        "node_ids=[G.nodes()]\n",
        "\n",
        "# generating labels(edge) at random\n",
        "# In kGCN, an edge is represented as a triple (node1, edge type, node2)\n",
        "# In this case, edge type is dummy 0. \n",
        "label_list=[]\n",
        "for _ in range(10):\n",
        "    x1=np.random.randint(node_num)\n",
        "    x2=np.random.randint(node_num)\n",
        "    x3=np.random.randint(node_num)\n",
        "    ## positive edge between x1 and x2 with dummy type 0\n",
        "    pos_label=[x1,0,x2]\n",
        "    ## negative edge between x1 and x3 with dummy type 0\n",
        "    neg_label=[x1,0,x3]\n",
        "    label_list.append(pos_label+neg_label)\n",
        "label_list=np.array([label_list])\n",
        "\n",
        "# This dictionary is used as an input of kGCN\n",
        "obj={\n",
        "    \"adj\":[adjs],\n",
        "    \"node\":node_ids,\n",
        "    \"node_num\":node_num,\n",
        "    \"label_list\":label_list,\n",
        "    \"max_node_num\":node_num}"
      ],
      "execution_count": 0,
      "outputs": []
    },
    {
      "cell_type": "markdown",
      "metadata": {
        "id": "76xgLf_HKg6q",
        "colab_type": "text"
      },
      "source": [
        "## Defining a neural network with graph convolution\n",
        "\n",
        "kGCN provides kgcn.layers module to construct graph convolutional networks.\n",
        "GraphConv represents a convolution operation.\n",
        "Operators in this module are compatible with Keras library, which  provides a high-level interface on Tensorflow.\n",
        "\n",
        "In kGCN, users should define one neural network class (NNModel) with two methods: build_placeholders and build_model.\n"
      ]
    },
    {
      "cell_type": "code",
      "metadata": {
        "id": "wCL18RZ8Dy2b",
        "colab_type": "code",
        "colab": {}
      },
      "source": [
        "import kgcn.layers\n",
        "from kgcn.default_model import DefaultModel\n",
        "import tensorflow.contrib.keras as K\n",
        "\n",
        "class NNModel(DefaultModel):\n",
        "    def build_placeholders(self,info,config,batch_size):\n",
        "        # input data types (placeholders) of this neural network\n",
        "        return self.get_placeholders(info,config,batch_size,\n",
        "            [\"adjs\",\"nodes\",\"preference_label_list\"])\n",
        "\n",
        "    def build_model(self,placeholders,info,config,batch_size):\n",
        "        # input data and parameters of this neural network\n",
        "        adj_channel_num=info.adj_channel_num\n",
        "        embedding_dim=config[\"embedding_dim\"]\n",
        "        in_adjs=placeholders[\"adjs\"]\n",
        "        in_nodes=placeholders[\"nodes\"]\n",
        "        label_list=placeholders[\"preference_label_list\"]\n",
        "\n",
        "        # constructing neural network\n",
        "        layer=K.layers.Embedding(info.all_node_num,embedding_dim)(in_nodes)\n",
        "        layer=kgcn.layers.GraphConv(64,adj_channel_num)(layer,adj=in_adjs)\n",
        "        layer=tf.nn.sigmoid(layer)\n",
        "        lp_prediction=tf.matmul(layer,layer,transpose_b=True)\n",
        "        \n",
        "        # extracting vectors associated with edges in the label list\n",
        "        pred0=tf.gather(prediction[0,:,:],label_list[0,:,0])\n",
        "        pred1=tf.gather(prediction[0,:,:],label_list[0,:,2])\n",
        "        pred2=tf.gather(prediction[0,:,:],label_list[0,:,3])\n",
        "        pred3=tf.gather(prediction[0,:,:],label_list[0,:,5])\n",
        "\n",
        "        # computing preference loss function\n",
        "        s1=tf.reduce_sum(pred0*pred1,axis=1)\n",
        "        s2=tf.reduce_sum(pred2*pred3,axis=1)\n",
        "        output=1.0/(1.0+tf.exp(s2-s1))\n",
        "\n",
        "        # computing cost function for optimization\n",
        "        cost=-1*tf.log(output+1.0e-10)\n",
        "        cost_opt=tf.reduce_mean(cost)\n",
        "        metrics={}\n",
        "        cost_sum=tf.reduce_sum(cost)\n",
        "        \n",
        "        # computing metrics (like accuracy) for evaluation \n",
        "        pre_count=tf.cast(tf.greater(s1,s2),tf.float32)\n",
        "        metrics[\"correct_count\"]=tf.reduce_sum(pre_count)\n",
        "        count=tf.shape(label_list[0,:,0])[0]\n",
        "        metrics[\"count\"]=count\n",
        "\n",
        "        return layer,lp_prediction,cost_opt,cost_sum,metrics\n",
        "        \n",
        "      "
      ],
      "execution_count": 0,
      "outputs": []
    },
    {
      "cell_type": "markdown",
      "metadata": {
        "id": "uDl30Yp_Kq-K",
        "colab_type": "text"
      },
      "source": [
        "## Loading the dataset using utilities in kGCN \n",
        "\n",
        "kGCN provides preprocessing for graph convolution.\n",
        "Users can specify configuration as an argument.\n",
        "Please see kGCN github page (https://github.com/clinfo/kGCN) for this configuration. \n"
      ]
    },
    {
      "cell_type": "code",
      "metadata": {
        "id": "N2lQFNgcFmRP",
        "colab_type": "code",
        "colab": {
          "base_uri": "https://localhost:8080/",
          "height": 136
        },
        "outputId": "5ec40cf4-1282-46c5-ff70-b0fb804a92ee"
      },
      "source": [
        "import kgcn\n",
        "import kgcn.data_util\n",
        "import kgcn.core\n",
        "import tensorflow as tf\n",
        "\n",
        "config={\n",
        "    \"with_node_embedding\":True,\n",
        "    \"normalize_adj_flag\":True,\n",
        "    \"split_adj_flag\":False,\n",
        "    \"shuffle_data\":False,\n",
        "}\n",
        "train_data, info = kgcn.data_util.build_data(config, obj)\n"
      ],
      "execution_count": 6,
      "outputs": [
        {
          "output_type": "stream",
          "text": [
            "[OK] checking #graphs\n",
            "The number of graphs                   = 1\n",
            "Dimension of a feature                 = 0\n",
            "The maximum number of nodes in a graph = 34\n",
            "The number of nodes in all graphs      = 34\n",
            "Dimension of a label                   = None\n",
            "The number of adj. matrices in a graph = 1\n"
          ],
          "name": "stdout"
        }
      ]
    },
    {
      "cell_type": "markdown",
      "metadata": {
        "id": "o2zFqtk9K2-S",
        "colab_type": "text"
      },
      "source": [
        "## Launching Tensorflow session to construct an actual model by instantiating NNModel\n",
        "\n"
      ]
    },
    {
      "cell_type": "code",
      "metadata": {
        "id": "IgFP7sPkG2uR",
        "colab_type": "code",
        "colab": {
          "base_uri": "https://localhost:8080/",
          "height": 410
        },
        "outputId": "feea531b-8167-4446-b49f-6ebc01e2bed2"
      },
      "source": [
        "sess=tf.Session()\n",
        "config={\n",
        "    \"batch_size\":100,\n",
        "    \"embedding_dim\":10,\n",
        "    \"learning_rate\":0.01,\n",
        "    \"param\":None,\n",
        "    \"retrain\":None,\n",
        "    \"save_model_path\":\"model\",\n",
        "    \"epoch\":5,\n",
        "    \"profile\":None,\n",
        "    \"task\":\"classification\",\n",
        "    \"save_interval\":2,\n",
        "    }\n",
        "\n",
        "model = kgcn.core.CoreModel(sess,config,info)\n",
        "nn=NNModel()\n",
        "model.build(nn)\n"
      ],
      "execution_count": 8,
      "outputs": [
        {
          "output_type": "stream",
          "text": [
            "WARNING: Logging before flag parsing goes to stderr.\n",
            "W0903 12:36:33.704861 139828412020608 deprecation_wrapper.py:119] From /usr/local/lib/python3.6/dist-packages/kgcn/default_model.py:7: The name tf.sparse_placeholder is deprecated. Please use tf.compat.v1.sparse_placeholder instead.\n",
            "\n",
            "W0903 12:36:33.888497 139828412020608 deprecation_wrapper.py:119] From /usr/local/lib/python3.6/dist-packages/kgcn/default_model.py:8: The name tf.placeholder is deprecated. Please use tf.compat.v1.placeholder instead.\n",
            "\n",
            "W0903 12:36:33.897526 139828412020608 deprecation.py:506] From /usr/local/lib/python3.6/dist-packages/tensorflow/python/keras/initializers.py:119: calling RandomUniform.__init__ (from tensorflow.python.ops.init_ops) with dtype is deprecated and will be removed in a future version.\n",
            "Instructions for updating:\n",
            "Call initializer instance with the dtype argument instead of passing it to the constructor\n",
            "W0903 12:36:33.920960 139828412020608 deprecation.py:506] From /usr/local/lib/python3.6/dist-packages/tensorflow/python/ops/init_ops.py:1251: calling VarianceScaling.__init__ (from tensorflow.python.ops.init_ops) with dtype is deprecated and will be removed in a future version.\n",
            "Instructions for updating:\n",
            "Call initializer instance with the dtype argument instead of passing it to the constructor\n",
            "W0903 12:36:34.090037 139828412020608 deprecation_wrapper.py:119] From /usr/local/lib/python3.6/dist-packages/tensorflow/python/autograph/converters/directives.py:117: The name tf.sparse_tensor_dense_matmul is deprecated. Please use tf.sparse.sparse_dense_matmul instead.\n",
            "\n",
            "W0903 12:36:35.583649 139828412020608 deprecation_wrapper.py:119] From /usr/local/lib/python3.6/dist-packages/kgcn/core.py:125: The name tf.get_collection is deprecated. Please use tf.compat.v1.get_collection instead.\n",
            "\n",
            "W0903 12:36:35.584822 139828412020608 deprecation_wrapper.py:119] From /usr/local/lib/python3.6/dist-packages/kgcn/core.py:125: The name tf.GraphKeys is deprecated. Please use tf.compat.v1.GraphKeys instead.\n",
            "\n",
            "W0903 12:36:35.585971 139828412020608 deprecation_wrapper.py:119] From /usr/local/lib/python3.6/dist-packages/kgcn/core.py:127: The name tf.train.AdamOptimizer is deprecated. Please use tf.compat.v1.train.AdamOptimizer instead.\n",
            "\n"
          ],
          "name": "stderr"
        },
        {
          "output_type": "stream",
          "text": [
            "Tensor(\"mul_2:0\", shape=(?,), dtype=float32)\n"
          ],
          "name": "stdout"
        },
        {
          "output_type": "stream",
          "text": [
            "/usr/local/lib/python3.6/dist-packages/tensorflow/python/ops/gradients_util.py:93: UserWarning: Converting sparse IndexedSlices to a dense Tensor of unknown shape. This may consume a large amount of memory.\n",
            "  \"Converting sparse IndexedSlices to a dense Tensor of unknown shape. \"\n"
          ],
          "name": "stderr"
        }
      ]
    },
    {
      "cell_type": "markdown",
      "metadata": {
        "id": "Y-O3CWn8LLpy",
        "colab_type": "text"
      },
      "source": [
        "## Training the neural network\n",
        "\n",
        "Let's start trainig.\n",
        "Like many machine learning libraries, kGCN also starts parameter training by one line.  "
      ]
    },
    {
      "cell_type": "code",
      "metadata": {
        "id": "Aa8bD2Z2IFU_",
        "colab_type": "code",
        "colab": {
          "base_uri": "https://localhost:8080/",
          "height": 274
        },
        "outputId": "30daa359-77e9-4e0a-b531-f54b1e8a4596"
      },
      "source": [
        "model.fit(train_data)\n"
      ],
      "execution_count": 9,
      "outputs": [
        {
          "output_type": "stream",
          "text": [
            "W0903 12:36:51.775463 139828412020608 deprecation_wrapper.py:119] From /usr/local/lib/python3.6/dist-packages/kgcn/core.py:217: The name tf.train.Saver is deprecated. Please use tf.compat.v1.train.Saver instead.\n",
            "\n"
          ],
          "name": "stderr"
        },
        {
          "output_type": "stream",
          "text": [
            "#train data =  1\n",
            "epoch 0, training cost 6.92703 (acc=0.3), validation cost 0 (acc=0) (count=0) ([SAVE] model/model.00000.ckpt) \n",
            "[SAVE]  model/model.best.ckpt\n",
            "epoch 1, training cost 7.4293 (acc=0.1), validation cost 0 (acc=0) (count=0) \n",
            "epoch 2, training cost 6.71725 (acc=0.3), validation cost 0 (acc=0) (count=0) ([SAVE] model/model.00002.ckpt) \n",
            "epoch 3, training cost 6.98678 (acc=0.5), validation cost 0 (acc=0) (count=0) \n"
          ],
          "name": "stdout"
        },
        {
          "output_type": "stream",
          "text": [
            "W0903 12:36:56.445040 139828412020608 deprecation.py:323] From /usr/local/lib/python3.6/dist-packages/tensorflow/python/training/saver.py:1276: checkpoint_exists (from tensorflow.python.training.checkpoint_management) is deprecated and will be removed in a future version.\n",
            "Instructions for updating:\n",
            "Use standard file APIs to check for files with this prefix.\n"
          ],
          "name": "stderr"
        },
        {
          "output_type": "stream",
          "text": [
            "epoch 4, training cost 6.76847 (acc=0.4), validation cost 0 (acc=0) (count=0) ([SAVE] model/model.00004.ckpt) \n",
            "[RESTORE]  model/model.best.ckpt\n",
            "[SAVE]  model/model.last.ckpt\n"
          ],
          "name": "stdout"
        }
      ]
    },
    {
      "cell_type": "markdown",
      "metadata": {
        "id": "5DDHiaHHLRa6",
        "colab_type": "text"
      },
      "source": [
        "## Prediction\n",
        "\n",
        "In the link predition, the prediction result is a sore matrix (#nodes x #nodes).\n",
        "The higher this score, the more likely the new edge in this graph.\n"
      ]
    },
    {
      "cell_type": "code",
      "metadata": {
        "id": "3RqEgo2JIKzl",
        "colab_type": "code",
        "colab": {
          "base_uri": "https://localhost:8080/",
          "height": 237
        },
        "outputId": "b5e07862-fbb6-4bd0-c963-cf07ec11cc39"
      },
      "source": [
        "train_y=model.pred(train_data)\n",
        "print(train_y)\n"
      ],
      "execution_count": 10,
      "outputs": [
        {
          "output_type": "stream",
          "text": [
            "[array([[18.24834 , 17.577501, 17.406668, ..., 17.098225, 17.083153,\n",
            "        17.079071],\n",
            "       [17.577501, 16.941578, 16.776772, ..., 16.479893, 16.465109,\n",
            "        16.461014],\n",
            "       [17.406668, 16.776772, 16.616945, ..., 16.323189, 16.30858 ,\n",
            "        16.304493],\n",
            "       ...,\n",
            "       [17.098225, 16.479893, 16.32319 , ..., 16.03658 , 16.02224 ,\n",
            "        16.018253],\n",
            "       [17.083153, 16.465113, 16.308578, ..., 16.02224 , 16.007948,\n",
            "        16.003973],\n",
            "       [17.079071, 16.461012, 16.304491, ..., 16.01825 , 16.003973,\n",
            "        16.      ]], dtype=float32)]\n"
          ],
          "name": "stdout"
        }
      ]
    },
    {
      "cell_type": "code",
      "metadata": {
        "id": "Nc4dHMibIN14",
        "colab_type": "code",
        "colab": {}
      },
      "source": [
        ""
      ],
      "execution_count": 0,
      "outputs": []
    }
  ]
}